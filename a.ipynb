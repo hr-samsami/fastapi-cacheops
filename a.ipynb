{
 "cells": [
  {
   "cell_type": "code",
   "execution_count": 1,
   "metadata": {},
   "outputs": [],
   "source": [
    "%%capture\n",
    "%pip install sqlalchemy aiosqlite aiocache"
   ]
  },
  {
   "cell_type": "code",
   "execution_count": 2,
   "metadata": {},
   "outputs": [],
   "source": [
    "import asyncio\n",
    "from aiocache import RedisCache\n",
    "from aiocache.serializers import PickleSerializer\n",
    "\n",
    "# Set up the Redis cache with a PickleSerializer\n",
    "cache = RedisCache(\n",
    "    endpoint=\"127.0.0.1\",\n",
    "    port=6379,\n",
    "    serializer=PickleSerializer(),\n",
    "    ttl=60  # Default TTL of 60 seconds\n",
    ")"
   ]
  },
  {
   "cell_type": "code",
   "execution_count": null,
   "metadata": {},
   "outputs": [],
   "source": [
    "import asyncio\n",
    "import hashlib\n",
    "import pickle\n",
    "from sqlalchemy import Column, Integer, String, select\n",
    "from sqlalchemy.ext.asyncio import create_async_engine, AsyncSession\n",
    "from sqlalchemy.orm import declarative_base\n",
    "from sqlalchemy.engine import Result\n",
    "from sqlalchemy.ext.asyncio import async_sessionmaker\n",
    "\n",
    "Base = declarative_base()\n",
    "\n",
    "# Example model\n",
    "class User(Base):\n",
    "    __tablename__ = \"users\"\n",
    "    \n",
    "    id = Column(Integer, primary_key=True)\n",
    "    name = Column(String(50), nullable=False)\n",
    "\n",
    "# Custom AsyncSession class to override 'execute'\n",
    "class CustomAsyncSession(AsyncSession):\n",
    "    async def execute(self, statement, *args, **kwargs) -> Result:\n",
    "        print(\"Custom execute called with:\", statement)\n",
    "        # serialized_obj = pickle.dumps(my_object, protocol=pickle.HIGHEST_PROTOCOL)\n",
    "\n",
    "        # Ensure we have a dialect to compile against\n",
    "        if self.bind is None:\n",
    "            raise RuntimeError(\"No bind found on session. Make sure your session is properly initialized.\")\n",
    "\n",
    "        # Compile the statement into a SQL string\n",
    "        compiled = statement.compile(\n",
    "            dialect=self.bind.dialect,\n",
    "            compile_kwargs={\"literal_binds\": True}\n",
    "        )\n",
    "        query_str = str(compiled)\n",
    "\n",
    "        # Generate a unique hash for the query\n",
    "        query_hash = hashlib.sha256(query_str.encode(\"utf-8\")).hexdigest()\n",
    "        if result:= await cache.get(query_hash):\n",
    "            return result\n",
    "        db_result = await super().execute(statement, *args, **kwargs)\n",
    "        await cache.set(query_hash,pickle.dumps(db_result))\n",
    "        # Do something with the query_hash, e.g., logging\n",
    "        print(f\"Executing async query with hash: {query_hash}\")\n",
    "        print(f\"Compiled query: {query_str}\")\n",
    "\n",
    "        # Call the original execute method\n",
    "        return db_result\n",
    "\n",
    "# Create an async engine\n",
    "engine = create_async_engine(\"sqlite+aiosqlite:///:memory:\", echo=False, future=True)\n",
    "\n",
    "# Create a session factory using our custom session class\n",
    "async_session_factory = async_sessionmaker(\n",
    "    engine, expire_on_commit=False, class_=CustomAsyncSession, autoflush=False, future=True\n",
    ")\n"
   ]
  },
  {
   "cell_type": "code",
   "execution_count": null,
   "metadata": {},
   "outputs": [],
   "source": [
    "async def async_setup():\n",
    "    async with engine.begin() as conn:\n",
    "        await conn.run_sync(Base.metadata.create_all)\n",
    "    \n",
    "    # Insert some sample data\n",
    "    async with async_session_factory() as session:\n",
    "        session.add_all([\n",
    "            User(name=\"Alice\"),\n",
    "            User(name=\"Bob\"),\n",
    "            User(name=\"Charlie\")\n",
    "        ])\n",
    "        await session.commit()\n",
    "\n",
    "# Run the setup\n",
    "await async_setup()\n"
   ]
  },
  {
   "cell_type": "code",
   "execution_count": null,
   "metadata": {},
   "outputs": [
    {
     "name": "stdout",
     "output_type": "stream",
     "text": [
      "Custom execute called with: SELECT users.id, users.name \n",
      "FROM users\n"
     ]
    }
   ],
   "source": [
    "async def async_query():\n",
    "    async with async_session_factory() as session:\n",
    "        # This will use the overridden execute method\n",
    "        result = await session.execute(select(User))\n",
    "        users = result.scalars().all()\n",
    "        return users\n",
    "\n",
    "users = await async_query()\n",
    "users\n"
   ]
  },
  {
   "cell_type": "code",
   "execution_count": null,
   "metadata": {},
   "outputs": [],
   "source": [
    "\n",
    "# Helper function to get a cache key for a query\n",
    "def get_cache_key(clauseelement, params):\n",
    "    # Create a unique cache key by hashing the SQL query and params\n",
    "    query_str = str(clauseelement) + json.dumps(params, sort_keys=True)\n",
    "    return hashlib.md5(query_str.encode('utf-8')).hexdigest()\n"
   ]
  },
  {
   "cell_type": "code",
   "execution_count": null,
   "metadata": {},
   "outputs": [],
   "source": [
    "\n"
   ]
  }
 ],
 "metadata": {
  "kernelspec": {
   "display_name": ".venv",
   "language": "python",
   "name": "python3"
  },
  "language_info": {
   "codemirror_mode": {
    "name": "ipython",
    "version": 3
   },
   "file_extension": ".py",
   "mimetype": "text/x-python",
   "name": "python",
   "nbconvert_exporter": "python",
   "pygments_lexer": "ipython3",
   "version": "3.11.4"
  }
 },
 "nbformat": 4,
 "nbformat_minor": 2
}
